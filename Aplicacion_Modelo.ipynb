{
 "cells": [
  {
   "metadata": {},
   "cell_type": "markdown",
   "source": "## Aplicar el modelo CatBoost",
   "id": "254fa6e1047d4f01"
  },
  {
   "metadata": {
    "ExecuteTime": {
     "end_time": "2025-07-10T16:31:33.678640Z",
     "start_time": "2025-07-10T16:31:33.675340Z"
    }
   },
   "cell_type": "code",
   "outputs": [],
   "execution_count": 10,
   "source": [
    "import pandas as pd\n",
    "import numpy as np\n",
    "from catboost import CatBoostClassifier\n"
   ],
   "id": "c46772cfd1dfff4e"
  },
  {
   "metadata": {},
   "cell_type": "markdown",
   "source": "## 1. Cargar modelo CatBoost",
   "id": "66f3008a6298c62e"
  },
  {
   "metadata": {
    "ExecuteTime": {
     "end_time": "2025-07-10T16:31:59.567023Z",
     "start_time": "2025-07-10T16:31:59.561379Z"
    }
   },
   "cell_type": "code",
   "source": [
    "modelo = CatBoostClassifier()\n",
    "modelo.load_model(\"best_model_catboost.cbm\")\n",
    "print(\"✅ Modelo CatBoost cargado correctamente\")"
   ],
   "id": "ac0237dec5710b60",
   "outputs": [
    {
     "name": "stdout",
     "output_type": "stream",
     "text": [
      "✅ Modelo CatBoost cargado correctamente\n"
     ]
    }
   ],
   "execution_count": 11
  },
  {
   "metadata": {},
   "cell_type": "markdown",
   "source": "##  2. Crear data ficticia (845 pacientes con errores simulados)",
   "id": "c9ed783ca97e87d4"
  },
  {
   "metadata": {
    "ExecuteTime": {
     "end_time": "2025-07-10T16:32:17.339713Z",
     "start_time": "2025-07-10T16:32:17.334538Z"
    }
   },
   "cell_type": "code",
   "source": [
    "np.random.seed(42)\n",
    "n = 845\n",
    "\n",
    "data_ficticia = pd.DataFrame({\n",
    "    'Age': np.random.randint(28, 85, n),\n",
    "    'Sex': np.random.choice(['M', 'F', 'Male', 'Female', ''], n),\n",
    "    'ChestPainType': np.random.choice(['ATA', 'NAP', 'ASY', 'TA', None, ''], n),\n",
    "    'RestingBP': np.random.choice(list(range(90, 201)) + [0, None], n),\n",
    "    'Cholesterol': np.random.choice(list(range(100, 351)) + [0, '', None], n),\n",
    "    'FastingBS': np.random.choice([0, 1, 2, '', None], n),\n",
    "    'RestingECG': np.random.choice(['Normal', 'ST', 'LVH', '', None], n),\n",
    "    'MaxHR': np.random.randint(90, 202, n),\n",
    "    'ExerciseAngina': np.random.choice(['N', 'Y', 'Yes', 'No', None, ''], n),\n",
    "    'Oldpeak': np.round(np.random.uniform(0, 6.2, n), 1),\n",
    "    'ST_Slope': np.random.choice(['Up', 'Flat', 'Down', None, ''], n)\n",
    "})"
   ],
   "id": "fdb3f4736b238105",
   "outputs": [],
   "execution_count": 12
  },
  {
   "metadata": {},
   "cell_type": "markdown",
   "source": "## 3. Limpieza básica",
   "id": "e2cac541128ea143"
  },
  {
   "metadata": {
    "ExecuteTime": {
     "end_time": "2025-07-10T16:32:45.196648Z",
     "start_time": "2025-07-10T16:32:45.187076Z"
    }
   },
   "cell_type": "code",
   "source": [
    "data_limpia = data_ficticia.copy()\n",
    "\n",
    "data_limpia['Sex'] = data_limpia['Sex'].replace({'Male': 'M', 'Female': 'F', '': np.nan})\n",
    "data_limpia['ChestPainType'] = data_limpia['ChestPainType'].replace({'': np.nan})\n",
    "data_limpia['RestingBP'] = pd.to_numeric(data_limpia['RestingBP'], errors='coerce')\n",
    "data_limpia['Cholesterol'] = pd.to_numeric(data_limpia['Cholesterol'], errors='coerce')\n",
    "data_limpia['FastingBS'] = pd.to_numeric(data_limpia['FastingBS'], errors='coerce')\n",
    "data_limpia['ExerciseAngina'] = data_limpia['ExerciseAngina'].replace({\n",
    "    'Yes': 'Y', 'No': 'N', '': np.nan\n",
    "})\n",
    "data_limpia['RestingECG'] = data_limpia['RestingECG'].replace({'': np.nan})\n",
    "data_limpia['ST_Slope'] = data_limpia['ST_Slope'].replace({'': np.nan})\n",
    "\n",
    "# Rellenar nulos hacia adelante (puedes cambiar a .fillna(método='bfill') si prefieres)\n",
    "data_limpia.fillna(method='ffill', inplace=True)"
   ],
   "id": "e3d11858392a237c",
   "outputs": [
    {
     "name": "stderr",
     "output_type": "stream",
     "text": [
      "C:\\Users\\Pedro Yacila\\AppData\\Local\\Temp\\ipykernel_20912\\1137943432.py:15: FutureWarning: DataFrame.fillna with 'method' is deprecated and will raise in a future version. Use obj.ffill() or obj.bfill() instead.\n",
      "  data_limpia.fillna(method='ffill', inplace=True)\n"
     ]
    }
   ],
   "execution_count": 13
  },
  {
   "metadata": {},
   "cell_type": "markdown",
   "source": "## 4. Realizar predicción",
   "id": "82bb7b6167cf83b0"
  },
  {
   "metadata": {
    "ExecuteTime": {
     "end_time": "2025-07-10T16:33:03.184325Z",
     "start_time": "2025-07-10T16:33:03.177581Z"
    }
   },
   "cell_type": "code",
   "source": [
    "predicciones = modelo.predict(data_limpia)\n",
    "data_limpia['Prediccion_HeartDisease'] = predicciones"
   ],
   "id": "9ac19846713d5f23",
   "outputs": [],
   "execution_count": 14
  },
  {
   "metadata": {},
   "cell_type": "markdown",
   "source": "##  5. Guardar resultados",
   "id": "87f1062fe055c345"
  },
  {
   "metadata": {
    "ExecuteTime": {
     "end_time": "2025-07-10T16:33:26.546674Z",
     "start_time": "2025-07-10T16:33:26.539153Z"
    }
   },
   "cell_type": "code",
   "source": [
    "data_limpia.to_csv(\"predicciones_845_pacientes.csv\", index=False)\n",
    "print(\"✅ Archivo 'predicciones_845_pacientes.csv' guardado con éxito.\")"
   ],
   "id": "d9bac2ac1b031264",
   "outputs": [
    {
     "name": "stdout",
     "output_type": "stream",
     "text": [
      "✅ Archivo 'predicciones_845_pacientes.csv' guardado con éxito.\n"
     ]
    }
   ],
   "execution_count": 15
  },
  {
   "metadata": {
    "ExecuteTime": {
     "end_time": "2025-07-10T16:36:58.799243Z",
     "start_time": "2025-07-10T16:36:58.791044Z"
    }
   },
   "cell_type": "code",
   "source": [
    "# Reemplazar 0 y 1 por etiquetas\n",
    "data_limpia['Prediccion_HeartDisease'] = data_limpia['Prediccion_HeartDisease'].replace({\n",
    "    0: \"No está enfermo\",\n",
    "    1: \"Está enfermo\"\n",
    "})\n",
    "\n",
    "# Guardar nuevamente\n",
    "data_limpia.to_csv(\"predicciones_845_pacientes.csv\", index=False)\n",
    "print(\"✅ Archivo actualizado con etiquetas descriptivas.\")\n"
   ],
   "id": "cb2405ea3de93848",
   "outputs": [
    {
     "name": "stdout",
     "output_type": "stream",
     "text": [
      "✅ Archivo actualizado con etiquetas descriptivas.\n"
     ]
    }
   ],
   "execution_count": 19
  },
  {
   "metadata": {
    "ExecuteTime": {
     "end_time": "2025-07-10T16:38:10.424918Z",
     "start_time": "2025-07-10T16:38:10.415651Z"
    }
   },
   "cell_type": "code",
   "source": [
    "df = pd.read_csv(\"predicciones_845_pacientes.csv\")\n",
    "\n",
    "# Mostrar las primeras 5 filas\n",
    "print(df.head())"
   ],
   "id": "5d74a6e529e130e8",
   "outputs": [
    {
     "name": "stdout",
     "output_type": "stream",
     "text": [
      "   Age Sex ChestPainType  RestingBP  Cholesterol  FastingBS RestingECG  MaxHR  \\\n",
      "0   66   F           NAP       94.0        289.0        NaN     Normal    126   \n",
      "1   79   F           NAP      172.0        134.0        2.0     Normal    118   \n",
      "2   56   F           ASY      123.0        246.0        2.0        LVH    156   \n",
      "3   42   F           ASY       99.0        129.0        0.0        LVH    104   \n",
      "4   70   F           ASY      178.0        177.0        1.0        LVH    189   \n",
      "\n",
      "  ExerciseAngina  Oldpeak ST_Slope Prediccion_HeartDisease  \n",
      "0              N      4.7       Up         No está enfermo  \n",
      "1              N      3.7       Up         No está enfermo  \n",
      "2              N      1.2     Flat            Está enfermo  \n",
      "3              N      4.1       Up            Está enfermo  \n",
      "4              Y      3.9     Flat            Está enfermo  \n"
     ]
    }
   ],
   "execution_count": 20
  }
 ],
 "metadata": {
  "kernelspec": {
   "display_name": "Python 3",
   "language": "python",
   "name": "python3"
  },
  "language_info": {
   "codemirror_mode": {
    "name": "ipython",
    "version": 2
   },
   "file_extension": ".py",
   "mimetype": "text/x-python",
   "name": "python",
   "nbconvert_exporter": "python",
   "pygments_lexer": "ipython2",
   "version": "2.7.6"
  }
 },
 "nbformat": 4,
 "nbformat_minor": 5
}
